{
 "cells": [
  {
   "cell_type": "markdown",
   "id": "fa2e6013",
   "metadata": {},
   "source": [
    "## Data Science Tools and Ecosystem"
   ]
  },
  {
   "cell_type": "markdown",
   "id": "83e60a9b",
   "metadata": {},
   "source": [
    "In this notebook, Data Science Tools and Ecosystem are summarized."
   ]
  },
  {
   "cell_type": "markdown",
   "id": "c22fac1e",
   "metadata": {},
   "source": [
    "Some of the popular languages that Data scientists use are: "
   ]
  },
  {
   "cell_type": "markdown",
   "id": "bc3bad80",
   "metadata": {},
   "source": [
    "1. python\n",
    "2. R\n",
    "3. Java"
   ]
  },
  {
   "cell_type": "markdown",
   "id": "afcf0d80",
   "metadata": {},
   "source": [
    "# Objectives"
   ]
  },
  {
   "cell_type": "markdown",
   "id": "8e061985",
   "metadata": {},
   "source": [
    "popular languages in Data Science\n",
    "popular libraries for Data Scientists\n",
    "Data Science Tools"
   ]
  },
  {
   "cell_type": "markdown",
   "id": "90c6ed99",
   "metadata": {},
   "source": [
    "some of the commonly used libraries used by Data Scientists include:"
   ]
  },
  {
   "cell_type": "markdown",
   "id": "f1310ffd",
   "metadata": {},
   "source": [
    "1. Jupyter\n",
    "2. TensorFlow\n",
    "3. Matplotlib"
   ]
  },
  {
   "cell_type": "markdown",
   "id": "bb10d473",
   "metadata": {},
   "source": [
    " | Data Science Tools |\n",
    " |--------------------|\n",
    " |      RStudio       |\n",
    " |     Apache Spark   |\n",
    " |     Apache Hadoop  |"
   ]
  },
  {
   "cell_type": "markdown",
   "id": "689c8c0c",
   "metadata": {},
   "source": [
    "## Below are a few examples of evaluating arithmetic expressions in python"
   ]
  },
  {
   "cell_type": "markdown",
   "id": "72f8fb6f",
   "metadata": {},
   "source": [
    "This is a simple arithmeticexpression to multiply then add integers"
   ]
  },
  {
   "cell_type": "code",
   "execution_count": 5,
   "id": "56773ac9",
   "metadata": {},
   "outputs": [
    {
     "name": "stdout",
     "output_type": "stream",
     "text": [
      "17\n"
     ]
    }
   ],
   "source": [
    "x <- 3\n",
    "y <- 4\n",
    "z <- 5\n",
    "v <- (x*y)+z\n",
    "print (v)\n",
    "\n"
   ]
  },
  {
   "cell_type": "markdown",
   "id": "2de235b4",
   "metadata": {},
   "source": [
    "This will convert 200 minutes to hours by dividing by 60"
   ]
  },
  {
   "cell_type": "code",
   "execution_count": 27,
   "id": "e9a0fa06",
   "metadata": {},
   "outputs": [
    {
     "name": "stdout",
     "output_type": "stream",
     "text": [
      "0.75\n"
     ]
    }
   ],
   "source": [
    "x <- 200\n",
    "y <- 60\n",
    "z <- (x/y)\n",
    "print (z)"
   ]
  },
  {
   "cell_type": "markdown",
   "id": "5aab5e9a",
   "metadata": {},
   "source": [
    "# Author\n",
    "Nastaran Dourandish"
   ]
  }
 ],
 "metadata": {
  "kernelspec": {
   "display_name": "Python 3 (ipykernel)",
   "language": "python",
   "name": "python3"
  },
  "language_info": {
   "codemirror_mode": {
    "name": "ipython",
    "version": 3
   },
   "file_extension": ".py",
   "mimetype": "text/x-python",
   "name": "python",
   "nbconvert_exporter": "python",
   "pygments_lexer": "ipython3",
   "version": "3.11.5"
  }
 },
 "nbformat": 4,
 "nbformat_minor": 5
}
